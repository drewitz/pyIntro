{
 "cells": [
  {
   "cell_type": "markdown",
   "metadata": {},
   "source": [
    "# Wo sollen wir anfangen?\n",
    "Python hat eine sehr ausführliche Dokumentation. Es gibt auch einen <a href=\"https://wiki.python.org/moin/BeginnersGuide\">Beginner's Guide</a>, der wahrscheinlich ein guter Anfangspunkt ist.\n",
    "\n",
    "Wenn man einfach schnell Graphen darstellen möchte, ist das hier vielleicht ein guter Anfang."
   ]
  },
  {
   "cell_type": "markdown",
   "metadata": {},
   "source": [
    "## Grundlagen\n",
    "Zunächst kann man mit Python natürlich alle möglichen Rechnungen durchführen, die man im Alltag so brauchen könnte."
   ]
  },
  {
   "cell_type": "code",
   "execution_count": null,
   "metadata": {},
   "outputs": [],
   "source": [
    "# Addition\n",
    "2 + 3"
   ]
  },
  {
   "cell_type": "code",
   "execution_count": null,
   "metadata": {},
   "outputs": [],
   "source": [
    "# Subtraktion\n",
    "1 - 1"
   ]
  },
  {
   "cell_type": "code",
   "execution_count": null,
   "metadata": {},
   "outputs": [],
   "source": [
    "# Multiplikation\n",
    "3 * 4"
   ]
  },
  {
   "cell_type": "code",
   "execution_count": null,
   "metadata": {},
   "outputs": [],
   "source": [
    "# Division\n",
    "10/2"
   ]
  },
  {
   "cell_type": "markdown",
   "metadata": {},
   "source": [
    "Kleine Notiz am Rande:\n",
    "Python3 erstellt bei der Division automatisch sogenannte Gleitkommazahlen (floats). Python2 rundet bei der Division von ganzen Zahlen immer ab, sodass das Ergebnis wieder eine ganze Zahl ist."
   ]
  },
  {
   "cell_type": "markdown",
   "metadata": {},
   "source": [
    "Potenzen kann man mit Python durch doppelte Sterne ** berechnen."
   ]
  },
  {
   "cell_type": "code",
   "execution_count": null,
   "metadata": {},
   "outputs": [],
   "source": [
    "# Potenzen\n",
    "2**3"
   ]
  },
  {
   "cell_type": "markdown",
   "metadata": {},
   "source": [
    "Klammern funktionieren genau so, wie man es erwartet, und es gilt wie üblich \"Punkt vor Strich\"."
   ]
  },
  {
   "cell_type": "code",
   "execution_count": null,
   "metadata": {},
   "outputs": [],
   "source": [
    "(1-2)**3+1*2"
   ]
  },
  {
   "cell_type": "markdown",
   "metadata": {},
   "source": [
    "## Variablen und Zeichenketten\n",
    "Mit dem Gleichheitszeichen kann man Variablen Werte zuweisen und dann weiterverwenden."
   ]
  },
  {
   "cell_type": "code",
   "execution_count": null,
   "metadata": {},
   "outputs": [],
   "source": [
    "a = 5\n",
    "b = 3\n",
    "print(a+b)"
   ]
  },
  {
   "cell_type": "markdown",
   "metadata": {},
   "source": [
    "Das funktioniert sogar mit Zeichenketten (strings).\n",
    "Diese kann man mit einfachen oder doppelten Gänsefüßchen schreiben."
   ]
  },
  {
   "cell_type": "code",
   "execution_count": null,
   "metadata": {},
   "outputs": [],
   "source": [
    "c = \"Hallo\"\n",
    "d = ' '\n",
    "e = 'Welt!'\n",
    "print(c + d + e)"
   ]
  },
  {
   "cell_type": "markdown",
   "metadata": {},
   "source": [
    "## Mathematische Funktionen und Konstanten\n",
    "In Python gibt es viele Pakete, die man importieren kann, um vordefinierte Funktionen und Konstanten zu benutzen.\n",
    "Eines der wichtigsten für uns ist NumPy.\n",
    "Es enthält vor allem Funktionen, um mit Vektoren und Matrizen zu rechnen (arrays genannt).\n",
    "Damit werden wir uns im nächsten Abschnitt beschäftigen.\n",
    "Zunächst nutzen wir die eingebauten Funktionen und Konstanten."
   ]
  },
  {
   "cell_type": "code",
   "execution_count": null,
   "metadata": {},
   "outputs": [],
   "source": [
    "import numpy as np\n",
    "\n",
    "print(np.e)\n",
    "print(np.pi)\n",
    "\n",
    "print(np.sin(np.pi*5))\n",
    "print(np.cos(np.pi*5))\n",
    "\n",
    "print(np.exp(1))\n",
    "print(np.exp(5*np.log(2)))\n"
   ]
  },
  {
   "cell_type": "markdown",
   "metadata": {},
   "source": [
    "## Graphen plotten\n",
    "Um Graphen zu zeichnen, muss man das Paket matplotlib.pyplot importieren.\n",
    "Auch Matplotlib hat eine umfangreiche <a href=\"https://matplotlib.org/3.3.2/index.html\">Dokumentation</a> mit zahlreichen Beispielen.\n",
    "\n",
    "Das grundlegende Prinzip, wie man in Python Graphen zeichnen kann, ist, indem man zwei Vektoren mit den `x`- und `y`-Werten erstellt, und python die Punkte mit den entsprechenden Koordinaten zeichnet."
   ]
  },
  {
   "cell_type": "code",
   "execution_count": null,
   "metadata": {},
   "outputs": [],
   "source": [
    "import matplotlib.pyplot as plt\n",
    "\n",
    "\n",
    "# Dies erstellt einen Array mit 100 Zahlen zwischen 0 und 2*pi\n",
    "x = np.linspace(0, 2*np.pi, 1000)\n",
    "\n",
    "# Erstelle die Funktionswerte, die man plotten möchte\n",
    "y = np.sin(np.exp(x/2))\n",
    "\n",
    "plt.plot(x, y)\n",
    "plt.title(\"Beispielplot\")\n",
    "plt.xlabel(\"x\")\n",
    "plt.ylabel(\"f(x)\")"
   ]
  }
 ],
 "metadata": {
  "kernelspec": {
   "display_name": "Python 3",
   "language": "python",
   "name": "python3"
  },
  "language_info": {
   "codemirror_mode": {
    "name": "ipython",
    "version": 3
   },
   "file_extension": ".py",
   "mimetype": "text/x-python",
   "name": "python",
   "nbconvert_exporter": "python",
   "pygments_lexer": "ipython3",
   "version": "3.9.1"
  }
 },
 "nbformat": 4,
 "nbformat_minor": 4
}
