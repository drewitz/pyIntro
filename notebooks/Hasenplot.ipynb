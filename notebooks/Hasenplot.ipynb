{
 "cells": [
  {
   "cell_type": "markdown",
   "metadata": {},
   "source": [
    "# Mathehasen\n",
    "Dies ist ein kleines Beispiel, wie man mit Python Graphen erstellen kann.\n",
    "Die Motivation kommt aus dem Buch \"Der Zahlenteufel\" von Hans Magnus Enzensberger. (Das Buch ist großartig. Ich kann es nur empfehlen!)\n",
    "\n",
    "Man startet mit einem magischen Hasenpärchen.\n",
    "Nach zwei Monaten bekommt das Hasenpärchen Nachwuchs: ein weiteres Hasenpärchen.\n",
    "Danach bekommt das Hasenpärchen jeden Monat ein weiteres Hasenpärchen Nachwuchs.\n",
    "Genauso wächst jedes neue Hasenpärchen zwei Monate lang auf, bevor es jeden Monat ein zusätzliches Hasenpärchen Nachwuchs hat.\n",
    "Im ersten und zweiten Monat gibt es also jeweils das eine ursprüngliche Hasenpärchen, im dritten Monat zwei (das ursprüngliche und den ersten Nachwuchs) und im vierten Monat drei (das ursprüngliche und zwei Pärchen Nachwuchs).\n",
    "Im nächsten Monat ist das älteste Nachwuchspärchen alt genug und es gibt zwei Pärchen Nachwuchs. Damit gibt es im fünften Monat die drei Pärchen aus dem vierten Monat plus zwei Pärchen Nachwuchs von den beiden Pärchen, die bereits alt genug sind.\n",
    "Im neuen Monat gibt es also die Hasen, die im aktuellen Monat bereits da sind, plus den Nachwuchs von den ältern Pärchen, die bereits im letzten Monat da waren.\n",
    "\n",
    "Die Folge der Anzahl Hasenpärchen ist also durch die Fibonacci-Folge beschrieben:\n",
    "$$f_0 = 1, f_1 = 1$$\n",
    "und\n",
    "$$f_{n+1}=f_n + f_{n+1}.$$\n",
    "Lasst uns die für die ersten Monate die jeweilige Anzahl der Hasen berechnen.\n"
   ]
  },
  {
   "cell_type": "code",
   "execution_count": null,
   "metadata": {},
   "outputs": [],
   "source": [
    "import numpy as np\n",
    "# NumPy hat viele Funktionen, um mit Vektoren (Arrays genannt) zu rechnen.\n",
    "\n",
    "t = np.arange(12)\n",
    "# np.arange(n) erstellt einen Array mit den ganzen Zahlen (0, 1, ..., n-1).\n",
    "hasen = np.ones(2)\n",
    "# np.ones(2) erstellt einen Array mit zwei Elementen, die alle gleich 1 sind. (Für die ersten beiden Monate)\n",
    "\n",
    "for x in range(len(t)-2):\n",
    "    # Dies ist eine For-Schleife.\n",
    "    # len(t) ist die Länge (length) des Arrays t\n",
    "    # range ist ein sogenannter Iterator.\n",
    "    # Er funktioniert so ähnlich wie np.arange,\n",
    "    # ist allerdings auf Schleifen optimiert.\n",
    "    # Wir rechnen \"-2\", weil wir die Hasenpärchenzahl für die ersten\n",
    "    # beiden Monate nicht mehr berechnen müssen, da sie jeweils 1 beträgt.\n",
    "    hasen = np.append(hasen, hasen[-1] + hasen[-2])\n",
    "    # Mit np.append kann man Arrays (und Zahlen) aneinanderfügen\n",
    "    # Mit hasen[..] kann man auf die Elemente des Arrays zugreifen.\n",
    "    # hasen[1] ist das erste Element, hasen[2] das zweite, etc.\n",
    "    # Zusätzlich kann man mit Python auch auf die letzten Elemente\n",
    "    # von Arrays zugreifen:\n",
    "    # hasen[-1] ist das letzte Element,\n",
    "    # hasen[-2] das vorletzte, etc."
   ]
  },
  {
   "cell_type": "markdown",
   "metadata": {},
   "source": [
    "Als naechstes plotten wir die Daten mit linearen Skalen. Dafür müssen wir zunächst das Modul matplotlib.pyplot laden. Dieses enthält alle nötigen Funktionen, um Graphen darzustellen."
   ]
  },
  {
   "cell_type": "code",
   "execution_count": null,
   "metadata": {},
   "outputs": [],
   "source": [
    "import matplotlib.pyplot as plt\n",
    "# Wir importieren das Modul unter dem Kürzel plt\n",
    "\n",
    "plt.plot(t, hasen, \"x\")\n",
    "# plt.plot(t, hasen) zeichnet den Graphen mit den\n",
    "# Werten von t auf der x-Achse und\n",
    "# den Werten von hasen auf der y-Achse\n",
    "# Die Option \"x\" zeichnet kleine Kreuze\n",
    "# anstatt einer durchgehenden Linie."
   ]
  },
  {
   "cell_type": "markdown",
   "metadata": {},
   "source": [
    "Um es mit einer logarithmischen Skala zu plotten, koennen wir einfach eingebaute Funktionen von matplotlib benutzen."
   ]
  },
  {
   "cell_type": "code",
   "execution_count": null,
   "metadata": {},
   "outputs": [],
   "source": [
    "plt.plot(t, hasen, \"x\")\n",
    "plt.yscale(\"log\")"
   ]
  }
 ],
 "metadata": {
  "kernelspec": {
   "display_name": "Python 3",
   "language": "python",
   "name": "python3"
  },
  "language_info": {
   "codemirror_mode": {
    "name": "ipython",
    "version": 3
   },
   "file_extension": ".py",
   "mimetype": "text/x-python",
   "name": "python",
   "nbconvert_exporter": "python",
   "pygments_lexer": "ipython3",
   "version": "3.9.1"
  }
 },
 "nbformat": 4,
 "nbformat_minor": 4
}
